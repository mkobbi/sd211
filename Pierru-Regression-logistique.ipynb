{
 "cells": [
  {
   "cell_type": "markdown",
   "metadata": {},
   "source": [
    "# TP2 - Régression logistique"
   ]
  },
  {
   "cell_type": "markdown",
   "metadata": {},
   "source": [
    "# Question 1.1"
   ]
  },
  {
   "cell_type": "markdown",
   "metadata": {},
   "source": [
    "On pose u = -yi(xi^T w + w0)\n",
    "***********************\n",
    "\n",
    "Gradient par rapport à w0 : la somme se fait de i=1 à i=n : \n",
    "\n",
    "(1/(n*ln(10))  *   ∑((-yi)  /  (1+exp(-yi*(xi^T * w + w0))))\n",
    "\n",
    "= (1/(n*ln(10))  *   ∑[(-yi)  /  (1+exp(u)]\n",
    "\n",
    "***********************\n",
    "\n",
    "\n",
    "Gradient par rapport à w : la somme se fait de i=1 à i=n : \n",
    "\n",
    "(1/(n*ln(10))  *   ∑((-yi*xi)  /  (1+exp(-yi*(xi^T * w + w0)))) + rho * w\n",
    "\n",
    "= (1/(n*ln(10))  *   ∑ [(-yi*xi)  /  (1+exp(u))] + rho * w\n",
    "***********************\n",
    "\n",
    "\n",
    "\n",
    "G(w0,w) = (1/(n*ln(10))  *   ∑ [(-yi)  /  (1+exp(u))] * [1,xi]  + rho * [0,w]\n",
    "\n",
    "(les vecteurs [1,xi] et [0,w] sont des vecteurs colonnes)\n"
   ]
  },
  {
   "cell_type": "markdown",
   "metadata": {},
   "source": [
    "Calculons la matrice hessienne :\n",
    "\n",
    "H = (1/(n*ln(10))  *   ∑((yi^2)  /  ((2*cosh(yi*((xi^T * w + w0) /2)^2) * [1,xi] * [1,xi]^T + [[0,0],[0,rho*I]]\n",
    "\n",
    "[1,xi] est un vecteur colonne\n",
    "\n",
    "H est définie positive donc la fonction est convexe"
   ]
  },
  {
   "cell_type": "markdown",
   "metadata": {},
   "source": [
    "# Question 1.2"
   ]
  },
  {
   "cell_type": "code",
   "execution_count": 8,
   "metadata": {
    "collapsed": false
   },
   "outputs": [
    {
     "name": "stdout",
     "output_type": "stream",
     "text": [
      "2.82127802014e-07\n"
     ]
    }
   ],
   "source": [
    "from cervicalcancerutils import load_cervical_cancer\n",
    "import numpy as np\n",
    "import scipy as sp\n",
    "import math\n",
    "from scipy.optimize import check_grad\n",
    "X,y = load_cervical_cancer(\"riskfactorscervicalcancer.csv\")\n",
    "n,p = X.shape\n",
    "X = np.column_stack((np.ones(n),X))\n",
    "rho = 1./n\n",
    "def f(w):\n",
    "    return float(sum(np.log(1+np.exp(-y[i]*(np.matrix(X[i,:])).dot(w.T))) for i in range(y.shape[0])))/n + rho/2. * np.linalg.norm(w)**2\n",
    "def grad(w):\n",
    "    return np.ravel(1./n * sum(-y[i]/(1+np.exp(y[i]*(np.matrix(X[i,:])).dot(w.T)))*X[i,:].T for i in range(y.shape[0])) + rho * w)\n",
    "def hess(w):\n",
    "    hessienne = 1./n * sum (float(y[i]**2/(2*np.cosh(y[i]/2*(np.matrix(X[i,:])).dot(w.T)))**2) * (np.matrix(X[i,:]).T*np.matrix(X[i,:])) for i in range(y.shape[0]))+rho * np.eye(X.shape[1])\n",
    "    hessienne[0,0]-=rho\n",
    "    return hessienne\n",
    "w_init=np.ones(p+1)\n",
    "print(check_grad(f,grad,w_init))"
   ]
  },
  {
   "cell_type": "markdown",
   "metadata": {},
   "source": [
    "# Question 1.3"
   ]
  },
  {
   "cell_type": "code",
   "execution_count": 11,
   "metadata": {
    "collapsed": false
   },
   "outputs": [
    {
     "data": {
      "text/plain": [
       "(matrix([[ 0.19122153, -0.17203309, -0.04810578, -0.14870863,  0.17237958,\n",
       "          -0.00698031,  0.20650566, -0.03690998,  0.07711366,  0.43045089,\n",
       "           0.12941497,  0.17248157,  0.31840133,  0.17367958,  0.1042114 ,\n",
       "           0.1042114 , -0.39129987,  0.16061291,  0.65549229, -0.3324718 ,\n",
       "           0.63672924, -0.3931593 , -0.39323339,  0.38164194,  0.03076257,\n",
       "           0.38164194,  0.27421301]]), 9)"
      ]
     },
     "execution_count": 11,
     "metadata": {},
     "output_type": "execute_result"
    }
   ],
   "source": [
    "import matplotlib.pyplot as plt\n",
    "\n",
    "def newton(w):\n",
    "    gradient = grad(w)\n",
    "    hessienne = hess(w)\n",
    "    k=0\n",
    "    \n",
    "    while(np.linalg.norm(gradient)>10e-10):\n",
    "        k=k+1\n",
    "        d=-np.linalg.inv(hessienne).dot(gradient)\n",
    "        w=w+d\n",
    "        gradient=grad(w)\n",
    "        hessienne=hess(w)\n",
    "        plt.plot(gradient)\n",
    "        \n",
    "    return(w,k)\n",
    "\n",
    "newton(np.zeros(p+1))"
   ]
  },
  {
   "cell_type": "code",
   "execution_count": null,
   "metadata": {
    "collapsed": true
   },
   "outputs": [],
   "source": []
  },
  {
   "cell_type": "code",
   "execution_count": null,
   "metadata": {
    "collapsed": true
   },
   "outputs": [],
   "source": []
  }
 ],
 "metadata": {
  "anaconda-cloud": {},
  "kernelspec": {
   "display_name": "Python 3",
   "language": "python",
   "name": "python3"
  },
  "language_info": {
   "codemirror_mode": {
    "name": "ipython",
    "version": 3
   },
   "file_extension": ".py",
   "mimetype": "text/x-python",
   "name": "python",
   "nbconvert_exporter": "python",
   "pygments_lexer": "ipython3",
   "version": "3.5.3"
  }
 },
 "nbformat": 4,
 "nbformat_minor": 0
}
