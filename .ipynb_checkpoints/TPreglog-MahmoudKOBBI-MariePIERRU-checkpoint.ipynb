{
 "cells": [
  {
   "cell_type": "code",
   "execution_count": 1,
   "metadata": {
    "collapsed": false
   },
   "outputs": [
    {
     "name": "stderr",
     "output_type": "stream",
     "text": [
      ":0: FutureWarning: IPython widgets are experimental and may change in the future.\n"
     ]
    }
   ],
   "source": [
    "from matplotlib import rc\n",
    "import seaborn as sns\n",
    "import matplotlib.pyplot as plt\n",
    "####################################################################\n",
    "# Notebook configuration\n",
    "plt.close('all')\n",
    "rc('font', **{'family': 'sans-serif', 'sans-serif': ['Computer Modern Roman']})\n",
    "# text.usetex is set as False by default to avoid problems with student computers\n",
    "params = {'axes.labelsize': 12,\n",
    "          'font.size': 16,\n",
    "          'legend.fontsize': 16,\n",
    "          'text.usetex': False,\n",
    "          'figure.figsize': (20, 10)}\n",
    "plt.rcParams.update(params)\n",
    "\n",
    "sns.set_context(\"poster\")\n",
    "sns.set_palette(\"colorblind\")\n",
    "sns.set_style(\"white\")\n",
    "sns.axes_style()\n",
    "%matplotlib inline"
   ]
  },
  {
   "cell_type": "markdown",
   "metadata": {},
   "source": [
    "# 1 Régularisation de Tikhonov"
   ]
  },
  {
   "cell_type": "markdown",
   "metadata": {},
   "source": [
    "## Question 1.1"
   ]
  },
  {
   "cell_type": "markdown",
   "metadata": {},
   "source": [
    "### Gradient"
   ]
  },
  {
   "cell_type": "markdown",
   "metadata": {},
   "source": [
    "Pour $\\left(\\omega_{0},\\omega\\right)\\in\\mathbb{R}\\times\\mathbb{R}^{p}$\n",
    " , on a :\n",
    "\n",
    "\\begin{array}{lll}\n",
    "f(\\omega_{0},\\omega) & = & \\dfrac{1}{n}{\\displaystyle \\sum_{i=1}^{n}}\\ln\\left(1+\\exp\\left(-y_{i}\\left(x_{i}^{T}\\omega+\\omega_{0}\\right)\\right)\\right)+\\dfrac{\\rho}{2}\\left\\Vert \\omega\\right\\Vert _{2}^{2}\\\\\n",
    " & = & \\dfrac{1}{n}{\\displaystyle \\sum_{i=1}^{n}}\\ln\\left(1+\\exp\\left(h\\left(\\omega_{0},\\omega\\right)\\right)\\right)+\\dfrac{\\rho}{2}\\left\\Vert \\omega\\right\\Vert _{2}^{2}\\\\\n",
    " & = & \\dfrac{1}{n}{\\displaystyle \\sum_{i=1}^{n}}\\ln\\left(g\\left(\\omega_{0},\\omega\\right)\\right)+\\dfrac{\\rho}{2}\\left\\Vert \\omega\\right\\Vert _{2}^{2}\n",
    "\\end{array}\n",
    " \n",
    "\n",
    "Donc :\\begin{array}{lll}\n",
    "\\dfrac{\\partial f(\\omega_{0},\\omega)}{\\partial\\omega_{0}} & = & \\dfrac{1}{n}{\\displaystyle \\sum_{i=1}^{n}}\\dfrac{\\frac{\\partial g\\left(\\omega_{0},\\omega\\right)}{\\partial\\omega_{0}}}{g(\\omega_{0},\\omega)}\\\\\n",
    " & = & \\dfrac{1}{n}{\\displaystyle \\sum_{i=1}^{n}}\\dfrac{\\frac{\\partial h\\left(\\omega_{0},\\omega\\right)}{\\partial\\omega_{0}}\\exp\\left(h\\left(\\omega_{0},\\omega\\right)\\right)}{g(\\omega_{0},\\omega)}\\\\\n",
    " & = & \\dfrac{1}{n}{\\displaystyle \\sum_{i=1}^{n}}\\dfrac{-y_{i}\\exp\\left(-y_{i}\\left(x_{i}^{T}\\omega+\\omega_{0}\\right)\\right)}{1+\\exp\\left(-y_{i}\\left(x_{i}^{T}\\omega+\\omega_{0}\\right)\\right)}\\\\\n",
    " & = & -\\dfrac{1}{n}{\\displaystyle \\sum_{i=1}^{n}}\\dfrac{y_{i}}{1+\\exp\\left(y_{i}\\left(x_{i}^{T}\\omega+\\omega_{0}\\right)\\right)}\n",
    "\\end{array}\n",
    " \n",
    "\n",
    "et\n",
    "\n",
    "\\begin{array}{lll}\n",
    "\\dfrac{\\partial f(\\omega_{0},\\omega)}{\\partial\\omega} & = & \\dfrac{1}{n}{\\displaystyle \\sum_{i=1}^{n}}\\dfrac{\\frac{\\partial g\\left(\\omega_{0},\\omega\\right)}{\\partial\\omega}}{g(\\omega_{0},\\omega)}+\\rho\\omega\\\\\n",
    " & = & \\dfrac{1}{n}{\\displaystyle \\sum_{i=1}^{n}}\\dfrac{\\frac{\\partial h\\left(\\omega_{0},\\omega\\right)}{\\partial\\omega}\\exp\\left(h\\left(\\omega_{0},\\omega\\right)\\right)}{g(\\omega_{0},\\omega)}+\\rho\\omega\\\\\n",
    " & = & \\dfrac{1}{n}{\\displaystyle \\sum_{i=1}^{n}}\\dfrac{-y_{i}\\exp\\left(-y_{i}\\left(x_{i}^{T}\\omega+\\omega_{0}\\right)\\right)}{1+\\exp\\left(-y_{i}\\left(x_{i}^{T}\\omega+\\omega_{0}\\right)\\right)}x_{i}+\\rho\\omega\\\\\n",
    " & = & \\dfrac{1}{n}{\\displaystyle \\sum_{i=1}^{n}}\\dfrac{-y_{i}}{1+\\exp\\left(y_{i}\\left(x_{i}^{T}\\omega+\\omega_{0}\\right)\\right)}x_{i}+\\rho\\omega\n",
    "\\end{array}\n",
    " \n",
    "\n",
    "D'où\n",
    "\n",
    "$$\\nabla f\\left(\\omega_{0},\\omega\\right)=\\left(\\dfrac{1}{n}{\\displaystyle \\sum_{i=1}^{n}}\\dfrac{-y_{i}}{1+\\exp\\left(y_{i}\\left(x_{i}^{T}\\omega+\\omega_{0}\\right)\\right)}\\left(\\begin{array}{c}\n",
    "1\\\\\n",
    "x_{i}\n",
    "\\end{array}\\right)+\\rho\\left(\\begin{array}{c}\n",
    "0\\\\\n",
    "\\omega\n",
    "\\end{array}\\right)\\right)\n",
    " $$\n",
    " "
   ]
  },
  {
   "cell_type": "markdown",
   "metadata": {},
   "source": [
    "### Hessienne"
   ]
  },
  {
   "cell_type": "markdown",
   "metadata": {},
   "source": [
    "Pour $\\left(\\omega_{0},\\omega\\right)\\in\\mathbb{R}\\times\\mathbb{R}^{p}$\n",
    " , on a :\n",
    "\n",
    "\\begin{array}{lll}\n",
    "\\dfrac{\\partial^{2}f(\\omega_{0},\\omega)}{\\partial\\omega_{0}^{2}} & = & \\dfrac{\\partial}{\\partial\\omega_{0}}\\left(-\\dfrac{1}{n}{\\displaystyle \\sum_{i=1}^{n}}\\dfrac{y_{i}}{1+\\exp\\left(y_{i}\\left(x_{i}^{T}\\omega+\\omega_{0}\\right)\\right)}\\right)\\\\\n",
    " & = & -\\dfrac{1}{n}{\\displaystyle \\sum_{i=1}^{n}}\\dfrac{y_{i}\\left(-y_{i}\\exp\\left(y_{i}\\left(x_{i}^{T}\\omega+\\omega_{0}\\right)\\right)\\right)}{\\left(1+\\exp\\left(y_{i}\\left(x_{i}^{T}\\omega+\\omega_{0}\\right)\\right)\\right)^{2}}\\\\\n",
    " & = & \\dfrac{1}{n}{\\displaystyle \\sum_{i=1}^{n}}\\dfrac{y_{i}^{2}\\exp\\left(y_{i}\\left(x_{i}^{T}\\omega+\\omega_{0}\\right)\\right)}{\\left(\\frac{2\\cosh\\left(\\frac{y_{i}}{2}\\left(x_{i}^{T}\\omega+\\omega_{0}\\right)\\right)}{\\exp\\left(-\\frac{y_{i}}{2}\\left(x_{i}^{T}\\omega+\\omega_{0}\\right)\\right)}\\right)^{2}}\\\\\n",
    " & = & \\dfrac{1}{n}{\\displaystyle \\sum_{i=1}^{n}}\\dfrac{y_{i}^{2}}{\\left(2\\cosh\\left(\\frac{y_{i}}{2}\\left(x_{i}^{T}\\omega+\\omega_{0}\\right)\\right)\\right)^{2}}\n",
    "\\end{array}\n",
    " \n",
    "\n",
    "\\begin{array}{lll}\n",
    "\\dfrac{\\partial^{2}f(\\omega_{0},\\omega)}{\\partial\\omega^{2}} & = & \\dfrac{\\partial}{\\partial\\omega}\\left(-\\dfrac{1}{n}{\\displaystyle \\sum_{i=1}^{n}}\\dfrac{y_{i}}{1+\\exp\\left(y_{i}\\left(x_{i}^{T}\\omega+\\omega_{0}\\right)\\right)}x_{i}+\\rho\\omega\\right)\\\\\n",
    " & = & -\\dfrac{1}{n}{\\displaystyle \\sum_{i=1}^{n}}\\dfrac{y_{i}\\left(-y_{i}\\exp\\left(y_{i}\\left(x_{i}^{T}\\omega+\\omega_{0}\\right)\\right)x_{i}\\right)x_{i}^{T}}{\\left(1+\\exp\\left(y_{i}\\left(x_{i}^{T}\\omega+\\omega_{0}\\right)\\right)\\right)^{2}}\\\\\n",
    " & = & \\dfrac{1}{n}{\\displaystyle \\sum_{i=1}^{n}}\\dfrac{y_{i}^{2}x_{i}x_{i}^{T}}{\\left(2\\cosh\\left(\\frac{y_{i}}{2}\\left(x_{i}^{T}\\omega+\\omega_{0}\\right)\\right)\\right)^{2}}+\\rho I_{p}\n",
    "\\end{array}\n",
    " \n",
    "\n",
    "\\begin{array}{lll}\n",
    "\\dfrac{\\partial^{2}f(\\omega_{0},\\omega)}{\\partial\\omega\\partial\\omega_{0}} & = & \\dfrac{\\partial}{\\partial\\omega}\\left(-\\dfrac{1}{n}{\\displaystyle \\sum_{i=1}^{n}}\\dfrac{y_{i}}{1+\\exp\\left(y_{i}\\left(x_{i}^{T}\\omega+\\omega_{0}\\right)\\right)}\\right)\\\\\n",
    " & = & -\\dfrac{1}{n}{\\displaystyle \\sum_{i=1}^{n}}\\dfrac{y_{i}\\left(-y_{i}\\exp\\left(y_{i}\\left(x_{i}^{T}\\omega+\\omega_{0}\\right)\\right)x_{i}\\right)}{\\left(1+\\exp\\left(y_{i}\\left(x_{i}^{T}\\omega+\\omega_{0}\\right)\\right)\\right)^{2}}\\\\\n",
    " & = & \\dfrac{1}{n}{\\displaystyle \\sum_{i=1}^{n}}\\dfrac{y_{i}^{2}x_{i}}{\\left(2\\cosh\\left(\\frac{y_{i}}{2}\\left(x_{i}^{T}\\omega+\\omega_{0}\\right)\\right)\\right)^{2}}\n",
    "\\end{array}\n",
    " \n",
    "\n",
    "\\begin{array}{lll}\n",
    "\\dfrac{\\partial^{2}f(\\omega_{0},\\omega)}{\\partial\\omega_{0}\\partial\\omega} & = & \\dfrac{\\partial}{\\partial\\omega_{0}}\\left(-\\dfrac{1}{n}{\\displaystyle \\sum_{i=1}^{n}}\\dfrac{y_{i}}{1+\\exp\\left(y_{i}\\left(x_{i}^{T}\\omega+\\omega_{0}\\right)\\right)}x_{i}+\\rho\\omega\\right)\\\\\n",
    " & = & -\\dfrac{1}{n}{\\displaystyle \\sum_{i=1}^{n}}\\dfrac{y_{i}\\left(-y_{i}\\exp\\left(y_{i}\\left(x_{i}^{T}\\omega+\\omega_{0}\\right)\\right)\\right)}{\\left(1+\\exp\\left(y_{i}\\left(x_{i}^{T}\\omega+\\omega_{0}\\right)\\right)\\right)^{2}}x_{i}^{T}\\\\\n",
    " & = & -\\dfrac{1}{n}{\\displaystyle \\sum_{i=1}^{n}}\\dfrac{y_{i}^{2}x_{i}^{T}}{\\left(2\\cosh\\left(\\frac{y_{i}}{2}\\left(x_{i}^{T}\\omega+\\omega_{0}\\right)\\right)\\right)^{2}}\n",
    "\\end{array}\n",
    " \n",
    "\n",
    "Par suite\n",
    "\n",
    "$$H\\left(f\\left(\\omega_{0},\\omega\\right)\\right)=\\dfrac{1}{n}{\\displaystyle \\sum_{i=1}^{n}}\\dfrac{y_{i}^{2}}{\\left(2\\cosh\\left(\\frac{y_{i}}{2}\\left(x_{i}^{T}\\omega+\\omega_{0}\\right)\\right)\\right)^{2}}\\left[\\begin{array}{c}\n",
    "1\\\\\n",
    "x_{i}\n",
    "\\end{array}\\right]\\left[\\begin{array}{cc}\n",
    "1 & x_{i}\\end{array}\\right]+\\left[\\begin{array}{cc}\n",
    "0 & 0\\\\\n",
    "0 & \\rho I_{p}\n",
    "\\end{array}\\right]$$\n",
    " "
   ]
  },
  {
   "cell_type": "markdown",
   "metadata": {},
   "source": [
    "### Convexité"
   ]
  },
  {
   "cell_type": "markdown",
   "metadata": {},
   "source": [
    "Posons, pour $i\\in\\{1,..,p\\}$ :\n",
    "$$\n",
    "\\begin{array}{ccc}\n",
    "a_{i} & = & \\dfrac{y_{i}^{2}}{\\left(2\\cosh\\left(\\frac{y_{i}}{2}\\left(x_{i}^{T}\\omega+\\omega_{0}\\right)\\right)\\right)^{2}}\\\\\n",
    "v_{i} & = & \\left(\\begin{array}{c}\n",
    "1\\\\\n",
    "x_{i}\n",
    "\\end{array}\\right)\n",
    "\\end{array}\n",
    "$$\n",
    "Pour $u\\in\\mathbb{R}^{p+1},u\\neq0$, on a:\n",
    "\n",
    "\\begin{cases}\n",
    "\\begin{array}{lcll}\n",
    "u^{t}Hu & = & u^{t}\\times\\rho\\left[\\begin{array}{cc}\n",
    "0 & 0\\\\\n",
    "0 & I_{p}\n",
    "\\end{array}\\right]\\times u+{\\displaystyle \\sum_{i=1}^{n}\\left(u^{t}a_{i}v_{i}\\right)\\left(v_{i}^{t}a_{i}^{t}u\\right)}\\\\\n",
    "u^{t}\\times\\rho\\left[\\begin{array}{cc}\n",
    "0 & 0\\\\\n",
    "0 & I_{p}\n",
    "\\end{array}\\right]\\times u & = & \\rho{\\displaystyle \\sum_{i=1}^{n}}u^{t}u & >0\\\\\n",
    "\\sum_{i=1}^{n}\\left(u^{t}a_{i}v_{i}\\right)\\left(v_{i}^{t}a_{i}^{t}u\\right) & = & {\\displaystyle \\sum_{i=1}^{n}}\\left(u^{t}a_{i}v_{i}\\right)^{2} & >0\n",
    "\\end{array}\\end{cases}\n",
    "\n",
    "Donc H est symétrique définie positive.\n",
    "\n",
    "Par suite, $f_{1}$ est convexe.\n",
    "\n",
    "## Question 1.2"
   ]
  },
  {
   "cell_type": "markdown",
   "metadata": {},
   "source": [
    "### Test de l'algorithme"
   ]
  },
  {
   "cell_type": "code",
   "execution_count": 2,
   "metadata": {
    "collapsed": false
   },
   "outputs": [
    {
     "name": "stdout",
     "output_type": "stream",
     "text": [
      "3.16292568338\n",
      "[ 0.18814326  0.24368619  0.96026569  0.98419138]\n",
      "[[ 0.17255424  0.08333333  0.00588757  0.08333333]\n",
      " [ 0.08333333  0.41666667  0.          0.        ]\n",
      " [ 0.00588757  0.          0.3392209   0.        ]\n",
      " [ 0.08333333  0.          0.          0.41666667]]\n"
     ]
    }
   ],
   "source": [
    "from cervicalcancerutils import load_cervical_cancer\n",
    "import numpy as np\n",
    "import scipy as sp\n",
    "import math\n",
    "X = np.eye(3)\n",
    "n,p = X.shape\n",
    "X = np.column_stack((np.ones(X.shape[0]),X))\n",
    "rho = 1./n\n",
    "w = np.matrix((0,1,2,3))\n",
    "y = np.array((1,-1,1))\n",
    "tikhonov = float(sum(np.log(1+np.exp(-y[i]*(np.matrix(X[i,:])).dot(w.T))) for i in range(y.shape[0])))/n + rho/2. * np.linalg.norm(w)**2\n",
    "print(tikhonov)\n",
    "gradient = np.ravel(1./n * sum(-y[i]/(1+np.exp(y[i]*(np.matrix(X[i,:])).dot(w.T)))*X[i,:].T for i in range(y.shape[0])) + rho * w)\n",
    "print(gradient)\n",
    "hessienne = 1./n * sum (float(y[i]**2/(2*np.cosh(y[i]/2*(np.matrix(X[i,:])).dot(w.T)))**2) * (np.matrix(X[i,:]).T*np.matrix(X[i,:])) for i in range(y.shape[0]))+rho * np.eye(X.shape[1])\n",
    "hessienne[0,0]-=rho\n",
    "print(hessienne)"
   ]
  },
  {
   "cell_type": "markdown",
   "metadata": {},
   "source": [
    "### Exécution sur le jeu de test réel"
   ]
  },
  {
   "cell_type": "code",
   "execution_count": 3,
   "metadata": {
    "collapsed": false
   },
   "outputs": [],
   "source": [
    "from scipy.optimize import check_grad\n",
    "X,y = load_cervical_cancer(\"riskfactorscervicalcancer.csv\")\n",
    "n,p = X.shape\n",
    "X = np.column_stack((np.ones(X.shape[0]),X))\n",
    "rho = 1./n\n",
    "def f(w):\n",
    "    return float(sum(np.log(1+np.exp(-y[i]*(np.matrix(X[i,:])).dot(w.T))) for i in range(y.shape[0])))/n + rho/2. * np.linalg.norm(w)**2\n",
    "def grad(w):\n",
    "    return np.ravel(1./n * sum(-y[i]/(1+np.exp(y[i]*(np.matrix(X[i,:])).dot(w.T)))*X[i,:].T for i in range(y.shape[0])) + rho * w)\n",
    "def hess(w):\n",
    "    hessienne = 1./n * sum (float(y[i]**2/(2*np.cosh(y[i]/2*(np.matrix(X[i,:])).dot(w.T)))**2) * (np.matrix(X[i,:]).T*np.matrix(X[i,:])) for i in range(y.shape[0]))+rho * np.eye(X.shape[1])\n",
    "    hessienne[0,0]-=rho\n",
    "    return hessienne"
   ]
  },
  {
   "cell_type": "code",
   "execution_count": 4,
   "metadata": {
    "collapsed": false
   },
   "outputs": [
    {
     "name": "stdout",
     "output_type": "stream",
     "text": [
      "2.82127802014e-07\n"
     ]
    }
   ],
   "source": [
    "w_init=np.ones(X.shape[1])\n",
    "print(check_grad(f,grad,w_init))"
   ]
  },
  {
   "cell_type": "markdown",
   "metadata": {},
   "source": [
    "## Question 1.3"
   ]
  },
  {
   "cell_type": "code",
   "execution_count": 5,
   "metadata": {
    "collapsed": false
   },
   "outputs": [],
   "source": [
    "def newton(epsilon,w = np.zeros(p+1)):\n",
    "    norms=[]\n",
    "    while(np.linalg.norm(grad(w))>=epsilon):\n",
    "        try:\n",
    "            w = w - np.linalg.inv(hess(w)).dot(grad(w))\n",
    "            norms.append(np.linalg.norm(grad(np.array(w))))\n",
    "        except:\n",
    "            break\n",
    "    return w, norms"
   ]
  },
  {
   "cell_type": "code",
   "execution_count": 6,
   "metadata": {
    "collapsed": false
   },
   "outputs": [
    {
     "data": {
      "image/png": "[encoded data removed]",
      "text/plain": [
       "<matplotlib.figure.Figure at 0x7fbfc23a8f10>"
      ]
     },
     "metadata": {},
     "output_type": "display_data"
    }
   ],
   "source": [
    "####################################################################\n",
    "# Plot the dataset\n",
    "plt.close(\"all\")\n",
    "plt.ion()\n",
    "plt.figure(1, figsize=(15, 5))\n",
    "plt.title('Newton Method')\n",
    "plt.loglog(newton(1e-10)[1])\n",
    "plt.xlabel(\"Iterations\")\n",
    "plt.ylabel(\"Value\")\n",
    "plt.show()"
   ]
  },
  {
   "cell_type": "markdown",
   "metadata": {},
   "source": [
    "## Question 1.4"
   ]
  },
  {
   "cell_type": "code",
   "execution_count": 7,
   "metadata": {
    "collapsed": false
   },
   "outputs": [
    {
     "data": {
      "image/png": "[encoded data removed]",
      "text/plain": [
       "<matplotlib.figure.Figure at 0x7fbfc1fa3fd0>"
      ]
     },
     "metadata": {},
     "output_type": "display_data"
    }
   ],
   "source": [
    "plt.close(\"all\")\n",
    "plt.ion()\n",
    "plt.figure(1, figsize=(15, 5))\n",
    "plt.title('Newton Method')\n",
    "plt.loglog(newton(1e-10, 0.3*np.ones(p+1))[1])\n",
    "plt.xlabel(\"Iterations\")\n",
    "plt.ylabel(\"Value\")\n",
    "plt.show()"
   ]
  },
  {
   "cell_type": "markdown",
   "metadata": {},
   "source": [
    "Nous remarquons que la méthode diverge"
   ]
  },
  {
   "cell_type": "markdown",
   "metadata": {},
   "source": [
    "## Question 1.5"
   ]
  },
  {
   "cell_type": "code",
   "execution_count": 8,
   "metadata": {
    "collapsed": false
   },
   "outputs": [],
   "source": [
    "def newton_linear_search(f, grad, hess, init, epsilon):\n",
    "    w = init\n",
    "    val = f(w)\n",
    "    g = grad(w)\n",
    "    h = hess(w)\n",
    "    norm_grad = [np.linalg.norm(g)]\n",
    "    while (np.linalg.norm(g) >= epsilon):\n",
    "        d = np.dot(np.linalg.inv(h), g) # initialiser la directon de descente\n",
    "        gamma = 1. # le pas gamma = b * a^l \n",
    "        alpha = .5  #joue le rôle de a\n",
    "        beta = 1e-4 # joue le rôle de beta\n",
    "        # trouver le pas optimal en trouvant le plus petit entier vérifiant l'inégalité\n",
    "        while (f(w-gamma*d) > val - beta * gamma * np.dot(g, np.matrix(d).T)):\n",
    "            gamma = alpha*gamma # gamma = ba^(l+1)\n",
    "        w = w - gamma * d #mettre à jour le nouveau w\n",
    "        val = f(w)\n",
    "        g=grad(w)\n",
    "        h=hess(w)\n",
    "        norm_grad = np.concatenate((norm_grad, [np.linalg.norm(g)]))\n",
    "    return val,w,norm_grad"
   ]
  },
  {
   "cell_type": "code",
   "execution_count": 9,
   "metadata": {
    "collapsed": false
   },
   "outputs": [
    {
     "data": {
      "image/png": "[encoded data removed]",
      "text/plain": [
       "<matplotlib.figure.Figure at 0x7fbfc7f01ad0>"
      ]
     },
     "metadata": {},
     "output_type": "display_data"
    }
   ],
   "source": [
    "init = (0.3*np.ones(p+1))\n",
    "plt.close(\"all\")\n",
    "plt.ion()\n",
    "plt.figure(1, figsize=(15, 5))\n",
    "plt.title('Newton Method w/ Armijo linear search')\n",
    "plt.loglog(newton_linear_search(f, grad, hess, init, 1e-10)[2])\n",
    "plt.xlabel(\"Iterations\")\n",
    "plt.ylabel(\"Value\")\n",
    "plt.show()"
   ]
  },
  {
   "cell_type": "markdown",
   "metadata": {},
   "source": [
    "# 2. Régularisation pour la parcimonie"
   ]
  },
  {
   "cell_type": "markdown",
   "metadata": {},
   "source": [
    "## Question 2.1"
   ]
  },
  {
   "cell_type": "markdown",
   "metadata": {},
   "source": [
    "Nous remarquons que $\\omega\\mapsto\\rho\\left\\Vert \\omega\\right\\Vert _{1}$ n'est pas de classe $\\mathscr{C}^{1}$ sur $\\mathbb{R}^{p}$. Elle n'est donc pas de classe $\\mathscr{C}^{2}$ sur $\\mathbb{R}^{p}$.\n",
    "\n",
    "Par suite, $F_{2}$ n'est pas de classe $\\mathscr{C}^{2}$ sur $\\mathbb{R\\times}\\mathbb{R}^{p}$.\n",
    "\n",
    "La méthode n'est donc pas utilisable."
   ]
  },
  {
   "cell_type": "markdown",
   "metadata": {},
   "source": [
    "## Question 2.2"
   ]
  },
  {
   "cell_type": "markdown",
   "metadata": {},
   "source": [
    "### Définition des fonctions"
   ]
  },
  {
   "cell_type": "markdown",
   "metadata": {},
   "source": [
    "Nous posons\n",
    "$$\n",
    "\\begin{array}{lcl}\n",
    "f_{2}:\\left(\\omega_{0},\\omega\\right) & \\mapsto & \\dfrac{1}{n}{\\displaystyle \\sum_{i=1}^{n}\\ln\\left(1+\\exp\\left(-y_{i}\\left(x_{i}^{T}\\omega+\\omega_{0}\\right)\\right)\\right)}\\\\\n",
    "g_{2}:\\left(\\omega_{0},\\omega\\right) & \\mapsto & \\rho\\left\\Vert \\omega\\right\\Vert _{1}\n",
    "\\end{array}\n",
    "$$"
   ]
  },
  {
   "cell_type": "markdown",
   "metadata": {},
   "source": [
    "### Opérateur proximal de $g_2$"
   ]
  },
  {
   "cell_type": "markdown",
   "metadata": {},
   "source": [
    "On a\n",
    "$$\n",
    "\\textrm{prox}_{g_{2}}:\\left(\\omega_{0},\\omega\\right)\\mapsto\\left(\\begin{array}{l}\n",
    "\\textrm{prox}_{g_{20}}\\left(\\omega_{0},\\omega\\right)\\\\\n",
    "\\textrm{prox}_{g_{21}}\\left(\\omega_{0},\\omega\\right)\\\\\n",
    "...\\\\\n",
    "\\textrm{prox}_{g_{2n}}\\left(\\omega_{0},\\omega\\right)\n",
    "\\end{array}\\right)\n",
    "$$\n",
    "avec\n",
    "\n",
    "$$\n",
    "\\omega=\\left(\\begin{array}{l}\n",
    "\\omega_{1}\\\\\n",
    "...\\\\\n",
    "\\omega_{n}\n",
    "\\end{array}\\right)\n",
    "$$\n",
    "\n",
    "et, pour $ i\\in\\{0,..,p\\}$ :\n",
    "$$   \n",
    "\\textrm{prox}_{g_{2i}}:\\left(\\omega_{0},\\omega\\right)\\mapsto\\begin{cases}\n",
    "\\omega_{i}-\\rho & \\omega_{i}\\geq\\rho\\\\\n",
    "0 & \\left|\\omega_{i}\\right|<\\rho\\\\\n",
    "\\omega_{i}+\\rho & \\omega_{i}\\leq-\\rho\n",
    "\\end{cases}\n",
    "$$"
   ]
  },
  {
   "cell_type": "markdown",
   "metadata": {},
   "source": [
    "### Gradient de $f_2$"
   ]
  },
  {
   "cell_type": "markdown",
   "metadata": {},
   "source": [
    "Pour $\\left(\\omega_{0},\\omega\\right)\\in\\mathbb{R}\\times\\mathbb{R}^{p}$\n",
    "$$\\nabla f_{2}\\left(\\omega_{0},\\omega\\right)=\\dfrac{1}{n}{\\displaystyle \\sum_{i=1}^{n}}\\dfrac{-y_{i}}{1+\\exp\\left(y_{i}\\left(x_{i}^{T}\\omega+\\omega_{0}\\right)\\right)}\\left(\\begin{array}{c}\n",
    "1\\\\\n",
    "x_{i}\n",
    "\\end{array}\\right)\n",
    " $$"
   ]
  },
  {
   "cell_type": "markdown",
   "metadata": {},
   "source": [
    "### Convexité"
   ]
  },
  {
   "cell_type": "markdown",
   "metadata": {},
   "source": [
    "D'après la question 1.1, $f_2$ est convexe. De plus, la norme 1 est également convexe.\n",
    "Par suite $F_2$ est convexe car somme de deux fonctions convexes."
   ]
  },
  {
   "cell_type": "markdown",
   "metadata": {},
   "source": [
    "### Question 2.3"
   ]
  },
  {
   "cell_type": "code",
   "execution_count": 14,
   "metadata": {
    "collapsed": false
   },
   "outputs": [],
   "source": [
    "def f2(w):\n",
    "    return float(sum(np.log(1+np.exp(-y[i]*(np.matrix(X[i,:])).dot(w.T))) for i in range(y.shape[0])))/n\n",
    "def grad2(w):\n",
    "    return np.ravel(1./n * sum(-y[i]/(1+np.exp(y[i]*(np.matrix(X[i,:])).dot(w.T)))*X[i,:].T for i in range(y.shape[0])))\n",
    "def hess2(w):\n",
    "    return 1./n * sum (float(y[i]**2/(2*np.cosh(y[i]/2*(np.matrix(X[i,:])).dot(w.T)))**2) * (np.matrix(X[i,:]).T*np.matrix(X[i,:])) for i in range(y.shape[0]))\n",
    "rho = 0.1\n",
    "def g2(w):\n",
    "    return rho * np.linalg.norm(w,ord=1)\n",
    "def prox(w):\n",
    "    pr= np.zeros(p+1)\n",
    "    pos_index = w > rho\n",
    "    neg_index = w < -rho\n",
    "    pr[pos_index] = w[pos_index] - rho\n",
    "    pr[neg_index] = w[neg_index] + rho\n",
    "    pr[0]=0.0\n",
    "    return pr\n",
    "def F2(w):\n",
    "    return f2(w) + g2(w)"
   ]
  },
  {
   "cell_type": "code",
   "execution_count": 11,
   "metadata": {
    "collapsed": false
   },
   "outputs": [],
   "source": [
    "def proximal_linear_search(f, grad, prox, init, epsilon,nombreIteration=False):\n",
    "    w = init\n",
    "    val = f(w)\n",
    "    g = grad(w)\n",
    "    #h = hess(w)\n",
    "    norm_grad = [np.linalg.norm(g)]\n",
    "    if (nombreIteration==False):\n",
    "        while (np.linalg.norm(g) >= epsilon):\n",
    "            try:\n",
    "                d = g \n",
    "                gamma = 1. \n",
    "                alpha = .5  \n",
    "                beta = 1e-4 \n",
    "                while (f(w-gamma*d) > val - beta * gamma * np.dot(g, np.matrix(d).T)):\n",
    "                    gamma = alpha*gamma \n",
    "                w = prox(w - gamma * np.ravel(d)) \n",
    "                val = f(w)\n",
    "                g=grad(w)\n",
    "                #h=hess(w)\n",
    "                norm_grad = np.concatenate((norm_grad, [np.linalg.norm(g)]))\n",
    "            except:\n",
    "                break\n",
    "    else:\n",
    "        nombre = 0\n",
    "        while (np.linalg.norm(g)>= epsilon and nombre <nombreIteration):\n",
    "            try:\n",
    "                d = g\n",
    "                gamma = 1.  \n",
    "                alpha = .5  \n",
    "                beta = 1e-4 \n",
    "                while (f(w-gamma*d) > val - beta * gamma * np.dot(g, np.matrix(d).T)):\n",
    "                    gamma = alpha*gamma \n",
    "                w = prox(w - gamma * np.ravel(d)) \n",
    "                val = f(w)\n",
    "                g=grad(w)\n",
    "                #h=hess(w)\n",
    "                norm_grad = np.concatenate((norm_grad, [np.linalg.norm(g)]))\n",
    "                nombre+=1\n",
    "                #print(np.linalg.norm(g))\n",
    "            except:\n",
    "                break\n",
    "    return val,w,norm_grad"
   ]
  },
  {
   "cell_type": "code",
   "execution_count": 12,
   "metadata": {
    "collapsed": false
   },
   "outputs": [
    {
     "data": {
      "image/png": "[encoded data removed]",
      "text/plain": [
       "<matplotlib.figure.Figure at 0x7fbfb662f7d0>"
      ]
     },
     "metadata": {},
     "output_type": "display_data"
    }
   ],
   "source": [
    "plt.close(\"all\")\n",
    "plt.ion()\n",
    "plt.figure(1, figsize=(15, 5))\n",
    "plt.title('Proximal gradient algorithm w/ linear search')\n",
    "plt.plot(proximal_linear_search(F2,grad2, prox,0.5*np.ones(p+1),1e-3,15)[2])\n",
    "plt.xlabel(\"Iterations\")\n",
    "plt.ylabel(\"Value\")\n",
    "plt.show()"
   ]
  },
  {
   "cell_type": "code",
   "execution_count": 15,
   "metadata": {
    "collapsed": false
   },
   "outputs": [
    {
     "data": {
      "text/plain": [
       "0.69314718055994651"
      ]
     },
     "execution_count": 15,
     "metadata": {},
     "output_type": "execute_result"
    }
   ],
   "source": [
    "proximal_linear_search(F2,grad2, prox,0.5*np.ones(p+1),1e-3,15)[0]"
   ]
  },
  {
   "cell_type": "markdown",
   "metadata": {},
   "source": [
    "Le nombre d'itérations peut être un bon test d'arrêt"
   ]
  },
  {
   "cell_type": "markdown",
   "metadata": {},
   "source": [
    "# 3. Comparaison"
   ]
  },
  {
   "cell_type": "markdown",
   "metadata": {},
   "source": [
    "## Question 3.1"
   ]
  },
  {
   "cell_type": "markdown",
   "metadata": {},
   "source": [
    "Les deux méthodes concernent des fonctions objectifs convexes. \n",
    "\n",
    "Pour la méthode du gradient proximal, la fonction n'a pas à être de classe $\\mathscr{C}^{2}$ sur $\\mathbb{R\\times}\\mathbb{R}^{p}$. alors que pour la méthode de Newton il est nécessaire qu'elle le soit. \n",
    "\n",
    "La méthode de Newton converge très rapidement si on se trouve au début dans la zone de convergence. Celle du gradient proximal est plus lente."
   ]
  },
  {
   "cell_type": "markdown",
   "metadata": {},
   "source": [
    "## Question 3.2"
   ]
  },
  {
   "cell_type": "markdown",
   "metadata": {},
   "source": [
    "Deux domaines de comparaison sont notables: \n",
    "\n",
    "• L'efficacité computationnelle : La norme $L_{2}$ est plus efficace face à des vecteurs non-sparses\n",
    "\n",
    "• Résultats : Les solutions retournées par $L_{1}$ sont plus sparses"
   ]
  }
 ],
 "metadata": {
  "kernelspec": {
   "display_name": "Python 2",
   "language": "python",
   "name": "python2"
  },
  "language_info": {
   "codemirror_mode": {
    "name": "ipython",
    "version": 2
   },
   "file_extension": ".py",
   "mimetype": "text/x-python",
   "name": "python",
   "nbconvert_exporter": "python",
   "pygments_lexer": "ipython2",
   "version": "2.7.12"
  }
 },
 "nbformat": 4,
 "nbformat_minor": 0
}
